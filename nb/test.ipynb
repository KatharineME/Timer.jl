{
 "cells": [
  {
   "cell_type": "code",
   "execution_count": null,
   "id": "c0065504",
   "metadata": {},
   "outputs": [],
   "source": [
    "include(\"../src/RunTime.jl\")"
   ]
  },
  {
   "cell_type": "code",
   "execution_count": null,
   "id": "273be268",
   "metadata": {},
   "outputs": [],
   "source": [
    "RunTime.@runtime(println(\"yes\"))"
   ]
  }
 ],
 "metadata": {
  "@webio": {
   "lastCommId": null,
   "lastKernelId": null
  },
  "kernelspec": {
   "display_name": "Julia 1.6.3",
   "language": "julia",
   "name": "julia-1.6"
  },
  "language_info": {
   "file_extension": ".jl",
   "mimetype": "application/julia",
   "name": "julia",
   "version": "1.6.3"
  }
 },
 "nbformat": 4,
 "nbformat_minor": 5
}
