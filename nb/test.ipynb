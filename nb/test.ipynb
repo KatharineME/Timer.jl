{
 "cells": [
  {
   "cell_type": "code",
   "execution_count": 26,
   "id": "c0065504",
   "metadata": {},
   "outputs": [
    {
     "name": "stderr",
     "output_type": "stream",
     "text": [
      "WARNING: replacing module RunTime.\n"
     ]
    },
    {
     "data": {
      "text/plain": [
       "Main.RunTime"
      ]
     },
     "execution_count": 26,
     "metadata": {},
     "output_type": "execute_result"
    }
   ],
   "source": [
    "include(\"../src/RunTime.jl\")"
   ]
  },
  {
   "cell_type": "code",
   "execution_count": 27,
   "id": "273be268",
   "metadata": {},
   "outputs": [
    {
     "name": "stdout",
     "output_type": "stream",
     "text": [
      "--------------------------------------------------------------------------------\n",
      "args = (:(println(\"yes\")),)\n",
      "Starting at 2021-10-29T14:40:23.451\n",
      "yes\n",
      "Ended at 2021-10-29T14:40:23.453\n",
      "Took 2 milliseconds\n",
      "\n"
     ]
    }
   ],
   "source": [
    "RunTime.@runtime(println(\"yes\"))"
   ]
  }
 ],
 "metadata": {
  "@webio": {
   "lastCommId": null,
   "lastKernelId": null
  },
  "kernelspec": {
   "display_name": "Julia 1.6.3",
   "language": "julia",
   "name": "julia-1.6"
  },
  "language_info": {
   "file_extension": ".jl",
   "mimetype": "application/julia",
   "name": "julia",
   "version": "1.6.3"
  }
 },
 "nbformat": 4,
 "nbformat_minor": 5
}
