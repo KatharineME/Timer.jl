{
 "cells": [
  {
   "cell_type": "code",
   "execution_count": 14,
   "id": "b5939172",
   "metadata": {},
   "outputs": [
    {
     "data": {
      "text/plain": [
       "Main.RunTime"
      ]
     },
     "execution_count": 14,
     "metadata": {},
     "output_type": "execute_result"
    }
   ],
   "source": [
    "include(\"../src/RunTime.jl\")"
   ]
  },
  {
   "cell_type": "code",
   "execution_count": 16,
   "id": "7bc4c961",
   "metadata": {},
   "outputs": [
    {
     "ename": "LoadError",
     "evalue": "ArgumentError: Package RunTime not found in current path:\n- Run `import Pkg; Pkg.add(\"RunTime\")` to install the RunTime package.\n",
     "output_type": "error",
     "traceback": [
      "ArgumentError: Package RunTime not found in current path:\n- Run `import Pkg; Pkg.add(\"RunTime\")` to install the RunTime package.\n",
      "",
      "Stacktrace:",
      " [1] require(into::Module, mod::Symbol)",
      "   @ Base ./loading.jl:893",
      " [2] eval",
      "   @ ./boot.jl:360 [inlined]",
      " [3] include_string(mapexpr::typeof(REPL.softscope), mod::Module, code::String, filename::String)",
      "   @ Base ./loading.jl:1116"
     ]
    }
   ],
   "source": [
    "using RunTime; @runtime"
   ]
  },
  {
   "cell_type": "code",
   "execution_count": null,
   "id": "0f4e23c9",
   "metadata": {},
   "outputs": [],
   "source": []
  }
 ],
 "metadata": {
  "@webio": {
   "lastCommId": null,
   "lastKernelId": null
  },
  "kernelspec": {
   "display_name": "Julia 1.6.3",
   "language": "julia",
   "name": "julia-1.6"
  },
  "language_info": {
   "file_extension": ".jl",
   "mimetype": "application/julia",
   "name": "julia",
   "version": "1.6.3"
  }
 },
 "nbformat": 4,
 "nbformat_minor": 5
}
